{
 "cells": [
  {
   "cell_type": "code",
   "execution_count": 1,
   "id": "6fda4220",
   "metadata": {},
   "outputs": [
    {
     "data": {
      "image/png": "[encoded data removed]",
      "text/plain": [
       "<Figure size 640x480 with 1 Axes>"
      ]
     },
     "metadata": {},
     "output_type": "display_data"
    }
   ],
   "source": [
    "#seaborn\n",
    "\n",
    "#creating plots like scatter plots, histograms, and box plots\n",
    "#displaying distributions and relationships between variables\n",
    "\n",
    "import seaborn as sns\n",
    "import matplotlib.pyplot as plt\n",
    "import pandas as pd\n",
    "\n",
    "#sample dataset\n",
    "data = pd.DataFrame({'x': [1,2,3,4,5], 'y': [2,4,6,8,10]})\n",
    "\n",
    "#create scatter plot \n",
    "sns.scatterplot(x='x', y='y', data=data)\n",
    "plt.title(\"scatter plot test\")\n",
    "plt.show()"
   ]
  },
  {
   "cell_type": "code",
   "execution_count": 2,
   "id": "ca842a39",
   "metadata": {},
   "outputs": [
    {
     "name": "stdout",
     "output_type": "stream",
     "text": [
      "3.0\n"
     ]
    }
   ],
   "source": [
    "#numpy\n",
    "\n",
    "import numpy as np\n",
    "\n",
    "#example: create a numpy array and perform basic operations\n",
    "arr = np.array([1,2,3,4,5])\n",
    "print(np.mean(arr)) #mean of the array"
   ]
  },
  {
   "cell_type": "code",
   "execution_count": null,
   "id": "eafc3783",
   "metadata": {},
   "outputs": [],
   "source": [
    "#pandas\n",
    "\n",
    "import pandas as pd\n",
    "\n",
    "#loading a csv file into a dataframe\n",
    "\n",
    "df = pd.read_csv('data.csv')\n",
    "\n",
    "#display first 5 rows\n",
    "print(df.head())"
   ]
  },
  {
   "cell_type": "code",
   "execution_count": 4,
   "id": "95f48cd2",
   "metadata": {},
   "outputs": [
    {
     "data": {
      "image/png": "[encoded data removed]",
      "text/plain": [
       "<Figure size 640x480 with 1 Axes>"
      ]
     },
     "metadata": {},
     "output_type": "display_data"
    }
   ],
   "source": [
    "#matplotlib \n",
    "\n",
    "import matplotlib.pyplot as plt\n",
    "\n",
    "categories = [\"A\",\"B\",\"C\",\"D\"]\n",
    "values = [10,20,15,30]\n",
    "\n",
    "plt.bar(categories, values, color='red')\n",
    "plt.xlabel(\"Categories\")\n",
    "plt.ylabel(\"Values\")\n",
    "plt.title(\"bar chart example\")\n",
    "plt.show()"
   ]
  },
  {
   "cell_type": "code",
   "execution_count": null,
   "id": "2543b105",
   "metadata": {},
   "outputs": [],
   "source": [
    "#reading and writing data \n",
    "import pandas as pd\n",
    "\n",
    "df = pd.read_csv(\"data.csv\") #reading a csv file\n",
    "df.to_csv(\"output.csv\", index=False) #writing to a csv file\n",
    "print(df.head())    #display first few rows"
   ]
  },
  {
   "cell_type": "code",
   "execution_count": null,
   "id": "711c390b",
   "metadata": {},
   "outputs": [],
   "source": [
    "#handling missing values\n",
    "\n",
    "#check for missing vals\n",
    "print(df.isnull().sum())\n",
    "\n",
    "#drop missing vals\n",
    "df_cleaned = df.dropna()\n",
    "print(\"dataset after dropping missing vals: \", df_cleaned.shape)\n",
    "\n",
    "#handle missing vals\n",
    "df['age'] = df['age'].fillna(df['age'].mean()) #fill age with mean\n",
    "df['embarked'] = df['embarked'].fillna(df['embarked'].mode()[0]) #fill embarked with mode\n",
    "\n",
    "#convert deck to string and replace NaN\n",
    "df['deck'] = df['deck'].astype(str).fillna('Unknown')\n",
    "\n",
    "#drop remaining NaN vals if needed\n",
    "df = df.dropna()\n",
    "print(df.isnull().sum()) #confirm no missing vals"
   ]
  },
  {
   "cell_type": "code",
   "execution_count": null,
   "id": "6bd09fff",
   "metadata": {},
   "outputs": [],
   "source": [
    "#encoding categorical data\n",
    "#Machine learning models require numerical data, so we must convert categorical variables.\n",
    "import pandas as pd\n",
    "import matplotlib.pyplot as plt \n",
    "from sklearn.preprocessing import LabelEncoder\n",
    "\n",
    "#label encoding (for binary categories)\n",
    "#converts categories into numbers (e.g. male -> 0, female -> 1)\n",
    "\n",
    "le = LabelEncoder()\n",
    "\n",
    "df['gender'] = le.fit_transform(df['gender']) #0 for male, 1 for female\n",
    "print(df['gender'].head())\n",
    "\n",
    "#One-Hot Encoding (For Multi-Class Categories)\n",
    "#Creates separate binary columns for each category.\n",
    "\n",
    "df = pd.get_dummies(df, columns=['embarked'], drop_first=True)\n",
    "print(df.head())\n",
    "\n",
    "#data visualization \n",
    "#creating histogram of numerical features\n",
    "df[['age', 'fare']].hist(bins=20, figsize=(8,4))\n",
    "plt.show()"
   ]
  },
  {
   "cell_type": "code",
   "execution_count": null,
   "id": "68ea92c3",
   "metadata": {},
   "outputs": [],
   "source": [
    "#Train-Test Split & Cross Validation\n",
    "\n",
    "#the train-test split technique used in machine learning to evaluate the performance of a model\n",
    "#involves splitting the dataset into two subsets\n",
    "\n",
    "## training set: used to train the model\n",
    "## testing set: used to evaluate the model's performace on unseen data\n",
    "\n",
    "# this helps in assesing how well the model generalizes to new data and prevents issues like overfitting\n",
    "\n",
    "#underfitting: model is too simple, performs poorly on training & test data\n",
    "#overfitting: model memorizes training data but performs poorly on unseen data\n",
    "\n",
    "#solution: use train-test split and cross-validation to check generalization\n",
    "\n",
    "#diff ways to split data:\n",
    "#80-20 split (common):\n",
    "## 80% TRAINING - 20% TESTING\n",
    "## used in general ML problems\n",
    "\n",
    "#70-30 split:\n",
    "## more test data, useful when we need better validation\n",
    "\n",
    "#60-20-20 split:\n",
    "## 60% TRAINING - 20% VALIDATION - 20% TESTING\n",
    "## used for hyperparameter tuning to avoid overfitting\n"
   ]
  },
  {
   "cell_type": "code",
   "execution_count": 6,
   "id": "81c4a6db",
   "metadata": {},
   "outputs": [
    {
     "name": "stdout",
     "output_type": "stream",
     "text": [
      "model accuracy: 0.55\n"
     ]
    }
   ],
   "source": [
    "#train-test split, with the Naïve Bayes Classifier:\n",
    "from sklearn.model_selection import train_test_split\n",
    "from sklearn.naive_bayes import GaussianNB\n",
    "from sklearn.metrics import accuracy_score\n",
    "import numpy as np\n",
    "\n",
    "#generate dummy dataset\n",
    "X = np.random.rand(100, 5) #100 samples, 5 features\n",
    "Y = np.random.randint(0, 2, 100) #binary target variable (0 or 1)\n",
    "\n",
    "#splitting the data into 80% training and 20% testing\n",
    "X_train, X_test, Y_train, Y_test = train_test_split(X, Y, test_size=0.2, random_state=42)\n",
    "\n",
    "#create a naive bayes model\n",
    "model = GaussianNB()\n",
    "\n",
    "#train the model on training data\n",
    "model.fit(X_train, Y_train)\n",
    "\n",
    "#predict on test data\n",
    "Y_pred = model.predict(X_test)\n",
    "\n",
    "#evaluate the model\n",
    "accuracy = accuracy_score(Y_test, Y_pred)\n",
    "print(f\"model accuracy: {accuracy:.2f}\")"
   ]
  },
  {
   "cell_type": "code",
   "execution_count": 8,
   "id": "ef9be186",
   "metadata": {},
   "outputs": [
    {
     "name": "stdout",
     "output_type": "stream",
     "text": [
      "k-fold avg accuracy: 0.6498\n"
     ]
    }
   ],
   "source": [
    "#K-fold cross validation \n",
    "\n",
    "#K-fold cross validation divides the dataset into K equal parts (folds)\n",
    "#model is trained K times, \n",
    "# each time using K-1 folds for training\n",
    "# 1 fold for validation\n",
    "\n",
    "#avg performance across all K folds is used as the final evaluation metric \n",
    "\n",
    "from sklearn.model_selection import KFold\n",
    "from sklearn.linear_model import LogisticRegression\n",
    "from sklearn.metrics import accuracy_score\n",
    "import numpy as np\n",
    "import pandas as pd\n",
    "import seaborn as sns\n",
    "\n",
    "#load dataset\n",
    "df = sns.load_dataset(\"titanic\")\n",
    "\n",
    "#select features and target, handling missing values\n",
    "X = df[['age', 'fare']].fillna(df[['age', 'fare']].mean())\n",
    "Y = df['survived']\n",
    "\n",
    "#convert to dataframe to use .iloc[]\n",
    "X = pd.DataFrame(X)\n",
    "Y = pd.Series(Y)\n",
    "\n",
    "#define k-folds (5 splits)\n",
    "kf = KFold(n_splits=5, shuffle=True, random_state=42)\n",
    "\n",
    "#initialize the model \n",
    "model = LogisticRegression()\n",
    "\n",
    "#store the accuracy scores\n",
    "accuracy_scores = []\n",
    "\n",
    "#perform K-Fold Cross Validation\n",
    "for train_index, test_index in kf.split(X):\n",
    "    X_train, X_test = X.iloc[train_index], X.iloc[test_index] #now X is a Dataframe\n",
    "    Y_train, Y_test = Y.iloc[train_index], Y.iloc[test_index] #now Y is a series\n",
    "    \n",
    "    #train model \n",
    "    model.fit(X_train, Y_train)\n",
    "    \n",
    "    #predict and evaluate\n",
    "    Y_pred = model.predict(X_test)\n",
    "    acc = accuracy_score(Y_test, Y_pred)\n",
    "    accuracy_scores.append(acc)\n",
    "\n",
    "\n",
    "#print avg accuracy\n",
    "print(f\"k-fold avg accuracy: {np.mean(accuracy_scores):.4f}\")"
   ]
  },
  {
   "cell_type": "code",
   "execution_count": 9,
   "id": "6c7dc9c9",
   "metadata": {},
   "outputs": [
    {
     "name": "stdout",
     "output_type": "stream",
     "text": [
      "LOOCV avg accuracy: 0.6566\n"
     ]
    }
   ],
   "source": [
    "#Leave-One-Out Cross Validation (LOOCV)\n",
    "\n",
    "#extreme case of K-fold where K = total num of samples\n",
    "#model is trained on all data except one sample & the process repeats for each sample\n",
    "\n",
    "from sklearn.model_selection import LeaveOneOut\n",
    "\n",
    "#initialize LOOCV\n",
    "loo = LeaveOneOut()\n",
    "\n",
    "#store accuracy scores\n",
    "loo_scores = []\n",
    "\n",
    "#perform LOOCV\n",
    "for train_index, test_index in loo.split(X):\n",
    "    X_train, X_test = X.iloc[train_index], X.iloc[test_index]\n",
    "    Y_train, Y_test = Y.iloc[train_index], Y.iloc[test_index]\n",
    "    \n",
    "    #train the model\n",
    "    model.fit(X_train, Y_train)\n",
    "    \n",
    "    #predict and evaluate\n",
    "    Y_pred = model.predict(X_test)\n",
    "    loo_scores.append(accuracy_score(Y_test, Y_pred))\n",
    "    \n",
    "print(f\"LOOCV avg accuracy: {np.mean(loo_scores):.4f}\")"
   ]
  },
  {
   "cell_type": "code",
   "execution_count": null,
   "id": "30d4a7e4",
   "metadata": {},
   "outputs": [],
   "source": [
    "#performance evaluation metrics\n",
    "\n",
    "# commonly used evaluation metrics in machine learning:\n",
    "# ● Accuracy\n",
    "# ● Precision\n",
    "# ● Recall\n",
    "# ● R2 Score\n",
    "# ● ROC AUC Curve\n",
    "\n",
    "#for classification:\n",
    "# accuracy score\n",
    "# f1score\n",
    "# precision \n",
    "# recall \n",
    "# ROC_AUC Score \n",
    "# Balanced Accuracy Score\n",
    "# confusion matrix\n",
    "\n",
    "#for regression: \n",
    "# Mean Absolute Error \n",
    "# Mean Square Error \n",
    "# Max Error \n",
    "# R2 Score \n",
    "# Explained Variance Score \n",
    "# D2 Absolute Score"
   ]
  },
  {
   "cell_type": "code",
   "execution_count": null,
   "id": "2c2ce4a0",
   "metadata": {},
   "outputs": [],
   "source": [
    "#CONFUSION MATRIX\n",
    "\n",
    "# True Positive (TP): The number of times our model correctly predicts positive values.\n",
    "# You predicted a positive value, and it is actually positive.\n",
    "# ● False Positive (FP): The number of times our model wrongly predicts positive values when they are actually negative.\n",
    "# You predicted a positive value, but it is actually negative.\n",
    "# ● True Negative (TN): The number of times our model correctly predicts negative values.\n",
    "# You predicted a negative value, and it is actually negative.\n",
    "# ● False Negative (FN): The number of times our model wrongly predicts negative values when they are actually positive.\n",
    "# You predicted a negative value, but it is actually positive."
   ]
  },
  {
   "cell_type": "code",
   "execution_count": null,
   "id": "e97c0285",
   "metadata": {},
   "outputs": [],
   "source": [
    "#ROC Curve - Receiver Operating Characteristic\n",
    "\n",
    "#common used tool for evaluating performance of binary classification algos\n",
    "\n",
    "# An ROC curve is a plot of the true positive rate (TPR) against the false positive rate (FPR) for a binary classifier at different classification thresholds.\n",
    "# The TPR is the proportion of true positives (correctly predicted positive cases) out of all actual positives, while the FPR is the \n",
    "# proportion of false positives (incorrectlypredicted positive cases) out of all actual Negatives.\n",
    "\n",
    "from sklearn.metrics import roc_curve, roc_auc_score\n",
    "import matplotlib.pyplot as plt\n",
    "\n",
    "# Assuming the model has been trained and 'PredictionDT' holds class predictions\n",
    "# To compute ROC, we need the probability estimates, not just the predicted class.\n",
    "# For binary classification, use the probabilities of the positive class.\n",
    "\n",
    "#get probabilities for the positive class\n",
    "probabilities = DT.predict_proba(X_test)[:, 1] #get probability for class '1'\n",
    "\n",
    "#calculate ROC curve \n",
    "fpr, tpr, thresholds = roc_curve(Y_test, probabilities)\n",
    "\n",
    "#calculate ROC_AUC score\n",
    "roc_auc = roc_auc_score (Y_test, probabilities)\n",
    "\n",
    "#plot ROC curve with shaded area under the curve\n",
    "plt.figure(figsize=(8,6))\n",
    "plt.plot(fpr, tpr, color='blue', lw=2, label=f'ROC Curve (AUC = {roc_auc:.2f})')\n",
    "plt.fill_between(fpr, tpr, color='skyblue', alpha=0.4)\n",
    "plt.plot([0,1],[0,1], color='gray', linestyle='--')\n",
    "plt.xlim([0.0, 1.0])\n",
    "plt.ylim([0.0, 1.05])\n",
    "plt.xlabel('False Positive Rate')\n",
    "plt.ylabel('True Positive Rate')\n",
    "plt.title('ROC Curve with AUC Area')\n",
    "plt.legend(loc='lower right')\n",
    "plt.show()\n"
   ]
  },
  {
   "cell_type": "code",
   "execution_count": 13,
   "id": "174042c8",
   "metadata": {},
   "outputs": [
    {
     "name": "stdout",
     "output_type": "stream",
     "text": [
      "SVM Accuracy:  1.0\n"
     ]
    }
   ],
   "source": [
    "#CLASSIFICATION\n",
    "\n",
    "#SUPPORT VECTOR MACHINE (SVM)\n",
    "#set of supervised learning algos used primarily for classification tasks (can also be used for regression)\n",
    "\n",
    "#key idea: to find the optimal hyperplane that separates the classes w/ the largest margin, thus improving generalization\n",
    "#goal is to maximize the margin between the classes\n",
    "\n",
    "#linear SVM:\n",
    "# For linearly separable data, SVM finds the hyperplane that perfectly\n",
    "# separates the classes. This is the simplest case, and the model does not require any additional tricks.\n",
    "\n",
    "#non-linear SVM:\n",
    "# SVM uses a kernel function to map the data into a higher-dimensional feature space, \n",
    "# where a linear decision boundary can be found.\n",
    "\n",
    "#popular kernel functions:\n",
    "## linear kernel: K(x, x’) = x^T x’\n",
    "## polynomial kernel: K(x, x’) = (x^T x' + c)^d\n",
    "## radial basis function (RBF) kernel: K(x, x’) = e^(−γ||x−x'||^2)\n",
    "\n",
    "# The kernel trick allows SVM to find a non-linear decision boundary in the original\n",
    "# feature space without explicitly calculating the transformation.\n",
    "\n",
    "from sklearn import datasets\n",
    "from sklearn.svm import SVC \n",
    "from sklearn.model_selection import train_test_split\n",
    "from sklearn.metrics import accuracy_score\n",
    "\n",
    "#load dataset \n",
    "iris = datasets.load_iris()\n",
    "X = iris.data\n",
    "\n",
    "y = iris.target\n",
    "y = (y==0).astype(int) #convert binary classification problem\n",
    "\n",
    "#split data \n",
    "X_train, X_test, y_train, y_test = train_test_split(X, y, test_size=0.3, random_state=42)\n",
    "\n",
    "#train SVM model with RBF kernel\n",
    "svm = SVC(kernel='rbf', C=1, gamma='scale')\n",
    "svm.fit(X_train, y_train)\n",
    "\n",
    "#make predictions\n",
    "y_pred = svm.predict(X_test)\n",
    "\n",
    "#evaluate model \n",
    "print(\"SVM Accuracy: \", accuracy_score(y_test, y_pred))\n"
   ]
  },
  {
   "cell_type": "code",
   "execution_count": 19,
   "id": "7dc50a9f",
   "metadata": {},
   "outputs": [
    {
     "name": "stdout",
     "output_type": "stream",
     "text": [
      "predictions:  [ 0.06858754  1.00867146 -0.44710026  0.11520442  0.06738308  0.9268164\n",
      "  0.30149058  0.03285725 -0.05930489  0.19989713  0.05860855  0.83360058\n",
      "  1.01238455  0.84301552  1.02396928  0.1851498  -0.15568455  0.14419308\n",
      "  0.08710758 -0.16992588  0.83271001  0.04251129  0.88704775 -0.16397104\n",
      "  0.00190482 -0.02397524 -0.25389267 -0.11680648  0.82169091  0.81105763]\n"
     ]
    }
   ],
   "source": [
    "#REGRESSION \n",
    "\n",
    "#linear regression\n",
    "#used for predictive analysis in machine learning.\n",
    "\n",
    "# Linear regression shows the linear relationship between the independent(predictor) variable i.e. X-axis and the\n",
    "# dependent(output) variable i.e. Y-axis, called linear regression. If there is a single input\n",
    "# variable X (independent variable), such linear regression is called simple linear regression.\n",
    "\n",
    "import numpy as np\n",
    "import pandas as pd\n",
    "from sklearn.linear_model import LinearRegression\n",
    "from sklearn.model_selection import train_test_split\n",
    "from sklearn.metrics import mean_squared_error\n",
    "\n",
    "#split the data into training and testing sets\n",
    "X_train, X_test, y_train, y_test = train_test_split(X, y, test_size=0.2, random_state=42)\n",
    "\n",
    "#create & train the linear regression model\n",
    "LR = LinearRegression()\n",
    "ModelLR = LR.fit(X_train, y_train)\n",
    "\n",
    "#predict on the test data\n",
    "PredictionLR = ModelLR.predict(X_test)\n",
    "\n",
    "#print predictions\n",
    "print(\"predictions: \", PredictionLR)"
   ]
  },
  {
   "cell_type": "code",
   "execution_count": null,
   "id": "9c798dc4",
   "metadata": {},
   "outputs": [],
   "source": [
    "# Root Mean Squared Error: The Root Mean Squared Error is the square root of the\n",
    "# variance of the residuals. It specifies the absolute fit of the model to the data i.e. how\n",
    "# close the observed data points are to the predicted values.\n",
    "\n",
    "from sklearn.metrics import r2_score\n",
    "print('===================LR Testing Accuracy================')\n",
    "teachLR = r2_score(y_test, PredictionLR)\n",
    "testingAccLR = teachLR * 100\n",
    "print(testingAccLR)"
   ]
  },
  {
   "cell_type": "code",
   "execution_count": 20,
   "id": "5b8fea13",
   "metadata": {},
   "outputs": [
    {
     "ename": "ValueError",
     "evalue": "Number of labels=890 does not match number of samples=120",
     "output_type": "error",
     "traceback": [
      "\u001b[1;31m---------------------------------------------------------------------------\u001b[0m",
      "\u001b[1;31mValueError\u001b[0m                                Traceback (most recent call last)",
      "Cell \u001b[1;32mIn[20], line 30\u001b[0m\n\u001b[0;32m     25\u001b[0m DT \u001b[38;5;241m=\u001b[39m DecisionTreeClassifier()\n\u001b[0;32m     29\u001b[0m \u001b[38;5;66;03m#train the model \u001b[39;00m\n\u001b[1;32m---> 30\u001b[0m ModelDT \u001b[38;5;241m=\u001b[39m \u001b[43mDT\u001b[49m\u001b[38;5;241;43m.\u001b[39;49m\u001b[43mfit\u001b[49m\u001b[43m(\u001b[49m\u001b[43mX_train\u001b[49m\u001b[43m,\u001b[49m\u001b[43m \u001b[49m\u001b[43mY_train\u001b[49m\u001b[43m)\u001b[49m\n\u001b[0;32m     32\u001b[0m \u001b[38;5;66;03m#model testing (prediction) \u001b[39;00m\n\u001b[0;32m     33\u001b[0m PredictionDT \u001b[38;5;241m=\u001b[39m DT\u001b[38;5;241m.\u001b[39mpredict(X_test)\n",
      "File \u001b[1;32m~\\AppData\\Local\\Packages\\PythonSoftwareFoundation.Python.3.11_qbz5n2kfra8p0\\LocalCache\\local-packages\\Python311\\site-packages\\sklearn\\base.py:1473\u001b[0m, in \u001b[0;36m_fit_context.<locals>.decorator.<locals>.wrapper\u001b[1;34m(estimator, *args, **kwargs)\u001b[0m\n\u001b[0;32m   1466\u001b[0m     estimator\u001b[38;5;241m.\u001b[39m_validate_params()\n\u001b[0;32m   1468\u001b[0m \u001b[38;5;28;01mwith\u001b[39;00m config_context(\n\u001b[0;32m   1469\u001b[0m     skip_parameter_validation\u001b[38;5;241m=\u001b[39m(\n\u001b[0;32m   1470\u001b[0m         prefer_skip_nested_validation \u001b[38;5;129;01mor\u001b[39;00m global_skip_validation\n\u001b[0;32m   1471\u001b[0m     )\n\u001b[0;32m   1472\u001b[0m ):\n\u001b[1;32m-> 1473\u001b[0m     \u001b[38;5;28;01mreturn\u001b[39;00m \u001b[43mfit_method\u001b[49m\u001b[43m(\u001b[49m\u001b[43mestimator\u001b[49m\u001b[43m,\u001b[49m\u001b[43m \u001b[49m\u001b[38;5;241;43m*\u001b[39;49m\u001b[43margs\u001b[49m\u001b[43m,\u001b[49m\u001b[43m \u001b[49m\u001b[38;5;241;43m*\u001b[39;49m\u001b[38;5;241;43m*\u001b[39;49m\u001b[43mkwargs\u001b[49m\u001b[43m)\u001b[49m\n",
      "File \u001b[1;32m~\\AppData\\Local\\Packages\\PythonSoftwareFoundation.Python.3.11_qbz5n2kfra8p0\\LocalCache\\local-packages\\Python311\\site-packages\\sklearn\\tree\\_classes.py:1009\u001b[0m, in \u001b[0;36mDecisionTreeClassifier.fit\u001b[1;34m(self, X, y, sample_weight, check_input)\u001b[0m\n\u001b[0;32m    978\u001b[0m \u001b[38;5;129m@_fit_context\u001b[39m(prefer_skip_nested_validation\u001b[38;5;241m=\u001b[39m\u001b[38;5;28;01mTrue\u001b[39;00m)\n\u001b[0;32m    979\u001b[0m \u001b[38;5;28;01mdef\u001b[39;00m \u001b[38;5;21mfit\u001b[39m(\u001b[38;5;28mself\u001b[39m, X, y, sample_weight\u001b[38;5;241m=\u001b[39m\u001b[38;5;28;01mNone\u001b[39;00m, check_input\u001b[38;5;241m=\u001b[39m\u001b[38;5;28;01mTrue\u001b[39;00m):\n\u001b[0;32m    980\u001b[0m \u001b[38;5;250m    \u001b[39m\u001b[38;5;124;03m\"\"\"Build a decision tree classifier from the training set (X, y).\u001b[39;00m\n\u001b[0;32m    981\u001b[0m \n\u001b[0;32m    982\u001b[0m \u001b[38;5;124;03m    Parameters\u001b[39;00m\n\u001b[1;32m   (...)\u001b[0m\n\u001b[0;32m   1006\u001b[0m \u001b[38;5;124;03m        Fitted estimator.\u001b[39;00m\n\u001b[0;32m   1007\u001b[0m \u001b[38;5;124;03m    \"\"\"\u001b[39;00m\n\u001b[1;32m-> 1009\u001b[0m     \u001b[38;5;28;43msuper\u001b[39;49m\u001b[43m(\u001b[49m\u001b[43m)\u001b[49m\u001b[38;5;241;43m.\u001b[39;49m\u001b[43m_fit\u001b[49m\u001b[43m(\u001b[49m\n\u001b[0;32m   1010\u001b[0m \u001b[43m        \u001b[49m\u001b[43mX\u001b[49m\u001b[43m,\u001b[49m\n\u001b[0;32m   1011\u001b[0m \u001b[43m        \u001b[49m\u001b[43my\u001b[49m\u001b[43m,\u001b[49m\n\u001b[0;32m   1012\u001b[0m \u001b[43m        \u001b[49m\u001b[43msample_weight\u001b[49m\u001b[38;5;241;43m=\u001b[39;49m\u001b[43msample_weight\u001b[49m\u001b[43m,\u001b[49m\n\u001b[0;32m   1013\u001b[0m \u001b[43m        \u001b[49m\u001b[43mcheck_input\u001b[49m\u001b[38;5;241;43m=\u001b[39;49m\u001b[43mcheck_input\u001b[49m\u001b[43m,\u001b[49m\n\u001b[0;32m   1014\u001b[0m \u001b[43m    \u001b[49m\u001b[43m)\u001b[49m\n\u001b[0;32m   1015\u001b[0m     \u001b[38;5;28;01mreturn\u001b[39;00m \u001b[38;5;28mself\u001b[39m\n",
      "File \u001b[1;32m~\\AppData\\Local\\Packages\\PythonSoftwareFoundation.Python.3.11_qbz5n2kfra8p0\\LocalCache\\local-packages\\Python311\\site-packages\\sklearn\\tree\\_classes.py:355\u001b[0m, in \u001b[0;36mBaseDecisionTree._fit\u001b[1;34m(self, X, y, sample_weight, check_input, missing_values_in_feature_mask)\u001b[0m\n\u001b[0;32m    352\u001b[0m max_leaf_nodes \u001b[38;5;241m=\u001b[39m \u001b[38;5;241m-\u001b[39m\u001b[38;5;241m1\u001b[39m \u001b[38;5;28;01mif\u001b[39;00m \u001b[38;5;28mself\u001b[39m\u001b[38;5;241m.\u001b[39mmax_leaf_nodes \u001b[38;5;129;01mis\u001b[39;00m \u001b[38;5;28;01mNone\u001b[39;00m \u001b[38;5;28;01melse\u001b[39;00m \u001b[38;5;28mself\u001b[39m\u001b[38;5;241m.\u001b[39mmax_leaf_nodes\n\u001b[0;32m    354\u001b[0m \u001b[38;5;28;01mif\u001b[39;00m \u001b[38;5;28mlen\u001b[39m(y) \u001b[38;5;241m!=\u001b[39m n_samples:\n\u001b[1;32m--> 355\u001b[0m     \u001b[38;5;28;01mraise\u001b[39;00m \u001b[38;5;167;01mValueError\u001b[39;00m(\n\u001b[0;32m    356\u001b[0m         \u001b[38;5;124m\"\u001b[39m\u001b[38;5;124mNumber of labels=\u001b[39m\u001b[38;5;132;01m%d\u001b[39;00m\u001b[38;5;124m does not match number of samples=\u001b[39m\u001b[38;5;132;01m%d\u001b[39;00m\u001b[38;5;124m\"\u001b[39m\n\u001b[0;32m    357\u001b[0m         \u001b[38;5;241m%\u001b[39m (\u001b[38;5;28mlen\u001b[39m(y), n_samples)\n\u001b[0;32m    358\u001b[0m     )\n\u001b[0;32m    360\u001b[0m \u001b[38;5;28;01mif\u001b[39;00m sample_weight \u001b[38;5;129;01mis\u001b[39;00m \u001b[38;5;129;01mnot\u001b[39;00m \u001b[38;5;28;01mNone\u001b[39;00m:\n\u001b[0;32m    361\u001b[0m     sample_weight \u001b[38;5;241m=\u001b[39m _check_sample_weight(sample_weight, X, DOUBLE)\n",
      "\u001b[1;31mValueError\u001b[0m: Number of labels=890 does not match number of samples=120"
     ]
    }
   ],
   "source": [
    "#DECISION TREE CLASSIFIER\n",
    "#most powerful and popular tool for classification and prediction.\n",
    "\n",
    "# DECISION TREE TERMINOLOGIES\n",
    "# 1. Root Node: The first split which decides the entire population or sample data should further get divided into two or more homogeneous sets\n",
    "# 2. Splitting: It is a process of dividing a node into two or more sub-nodes\n",
    "# 3. Decision Node: This node decides whether/when a sub-node splits into further sub-nodes or not\n",
    "# 4. Leaf Node: Terminal Node that predicts the outcome (categorical or continuous value).\n",
    "# 5. Branch: A subsection of the entire tree is called branch or sub-tree.\n",
    "# 6. Parent Node: A node divided into sub-nodes is called a parent node of sub-nodes whereas sub-nodes are the child of a parent node.\n",
    "\n",
    "#STEPS TO IMPLEMENT DECISION TREE\n",
    "\n",
    "## step 1 -> begin the tree w/ root node, says S, which contains the complete dataset\n",
    "## step 2 -> find best attribute in the dataset using ASM (attribute selection measure)\n",
    "## step 3 -> divide the S into subsets that contain possible values for the best attribute\n",
    "## step 4 -> generate the decision tree node containing the best attribute\n",
    "## step 5 -> recursively make new decision trees using the subsets of the dataset created in step3\n",
    "\n",
    "## continue this process until a stage is reached - cannot further classify the node and call the final node a leaf node\n",
    "\n",
    "from sklearn.tree import DecisionTreeClassifier\n",
    "\n",
    "#initialize the DecisionTreeClassifier\n",
    "DT = DecisionTreeClassifier()\n",
    "\n",
    "\n",
    "\n",
    "#train the model \n",
    "ModelDT = DT.fit(X_train, Y_train)\n",
    "\n",
    "#model testing (prediction) \n",
    "PredictionDT = DT.predict(X_test)\n",
    "print(\"predictions: \", PredictionDT)\n",
    "\n",
    "#model training accuracy\n",
    "print('====================DT Training Accuracy===============')\n",
    "tracDT = DT.score(X_train, Y_train) #score method gives accuracy directly\n",
    "TrainingAccDT = tracDT * 100\n",
    "print(f\"Training Accuracy: {TrainingAccDT:.2f}%\")\n",
    "\n",
    "\n",
    "#model testing accuracy\n",
    "print('====================DT Training Accuracy===============')\n",
    "teacDT = accuracy_score(Y_test, PredictionDT)\n",
    "testingAccDT = teacDT * 100\n",
    "print(f\"Testing Accuracy: {testingAccDT:.2f}%\")"
   ]
  }
 ],
 "metadata": {
  "kernelspec": {
   "display_name": "Python 3",
   "language": "python",
   "name": "python3"
  },
  "language_info": {
   "codemirror_mode": {
    "name": "ipython",
    "version": 3
   },
   "file_extension": ".py",
   "mimetype": "text/x-python",
   "name": "python",
   "nbconvert_exporter": "python",
   "pygments_lexer": "ipython3",
   "version": "3.11.9"
  }
 },
 "nbformat": 4,
 "nbformat_minor": 5
}
