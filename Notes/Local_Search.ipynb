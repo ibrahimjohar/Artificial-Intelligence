{
  "cells": [
    {
      "cell_type": "markdown",
      "source": [
        "**Beam Search**"
      ],
      "metadata": {
        "id": "OGGYdGVx_YfW"
      }
    },
    {
      "cell_type": "code",
      "source": [
        "import heapq\n",
        "\n",
        "# Define the graph as an adjacency list with edge costs\n",
        "graph = {\n",
        "    'S': [('A', 3), ('B', 6), ('C', 5)],\n",
        "    'A': [('D', 9), ('E', 8)],\n",
        "    'B': [('F', 12), ('G', 14)],\n",
        "    'C': [('H', 7)],\n",
        "    'H': [('I', 5), ('J', 6)],\n",
        "    'I': [('K', 1), ('L', 10), ('M', 2)],\n",
        "    'D': [], 'E': [], 'F': [], 'G': [], 'J': [],\n",
        "    'K': [], 'L': [], 'M': []  # Leaf nodes\n",
        "}\n",
        "\n",
        "# Beam Search function\n",
        "def beam_search(start, goal, beam_width=2):\n",
        "    # Initialize the beam with the start state\n",
        "    beam = [(0, [start])]  # (cumulative cost, path)\n",
        "\n",
        "    while beam:\n",
        "        candidates = []\n",
        "\n",
        "        # Expand each path in the beam\n",
        "        for cost, path in beam:\n",
        "            current_node = path[-1]\n",
        "            if current_node == goal:\n",
        "                return path, cost  # Return the path and cost if goal is reached\n",
        "\n",
        "            # Generate successors\n",
        "            for neighbor, edge_cost in graph.get(current_node, []):\n",
        "                new_cost = cost + edge_cost\n",
        "                new_path = path + [neighbor]\n",
        "                # print(current_node, new_path)\n",
        "                candidates.append((new_cost, new_path))\n",
        "\n",
        "        # Select top-k paths based on the lowest cumulative cost\n",
        "        beam = heapq.nsmallest(beam_width, candidates, key=lambda x: x[0])\n",
        "        # print(beam)\n",
        "        # print(\"can: \", candidates)\n",
        "    return None, float('inf')  # Return None if no path is found\n",
        "\n",
        "# Run Beam Search\n",
        "start_node = 'S'\n",
        "goal_node = 'L'\n",
        "beam_width = 3\n",
        "path, cost = beam_search(start=start_node, goal=goal_node, beam_width=beam_width)\n",
        "\n",
        "# Print results\n",
        "if path:\n",
        "    print(f\"Path found: {' → '.join(path)} with total cost: {cost}\")\n",
        "else:\n",
        "    print(\"No path found.\")\n"
      ],
      "metadata": {
        "colab": {
          "base_uri": "https://localhost:8080/"
        },
        "id": "NgUYBkJL_YNt",
        "outputId": "13ac47eb-e943-4c12-d6ab-8a01097bf081"
      },
      "execution_count": 9,
      "outputs": [
        {
          "output_type": "stream",
          "name": "stdout",
          "text": [
            "Path found: S → C → H → I → L with total cost: 27\n"
          ]
        }
      ]
    },
    {
      "cell_type": "markdown",
      "source": [
        "**Simple Hill Climbing**"
      ],
      "metadata": {
        "id": "-eHlcDoJwCi4"
      }
    },
    {
      "cell_type": "code",
      "source": [
        "import random\n",
        "\n",
        "# Heuristic function: Counts the number of pairs of attacking queens\n",
        "def calculate_conflicts(state):\n",
        "\n",
        "    conflicts = 0\n",
        "    n = len(state)\n",
        "    for i in range(n):\n",
        "        for j in range(i + 1, n):\n",
        "            # Check same column or diagonal\n",
        "            if state[i] == state[j] or abs(state[i] - state[j]) == abs(i - j):\n",
        "                conflicts += 1\n",
        "    return conflicts\n",
        "\n",
        "# Generate neighbors by moving one queen at a time\n",
        "def get_neighbors(state):\n",
        "    neighbors = []\n",
        "    n = len(state)\n",
        "    for row in range(n):\n",
        "        for col in range(n):\n",
        "            if col != state[row]:\n",
        "                new_state = list(state)\n",
        "                new_state[row] = col\n",
        "                neighbors.append(new_state)\n",
        "    return neighbors\n",
        "\n",
        "# Simple Hill Climbing function\n",
        "def simple_hill_climbing(n):\n",
        "    # Random initial state\n",
        "    current_state = [random.randint(0, n - 1) for _ in range(n)]\n",
        "    current_conflicts = calculate_conflicts(current_state)\n",
        "\n",
        "    while True:\n",
        "        neighbors = get_neighbors(current_state)\n",
        "        next_state = None\n",
        "        next_conflicts = current_conflicts\n",
        "\n",
        "        # Find the first better neighbor\n",
        "        for neighbor in neighbors:\n",
        "            neighbor_conflicts = calculate_conflicts(neighbor)\n",
        "            if neighbor_conflicts < next_conflicts:\n",
        "                next_state = neighbor\n",
        "                next_conflicts = neighbor_conflicts\n",
        "                break  # Move to the first better neighbor\n",
        "\n",
        "        # If no better neighbor is found, return the current state\n",
        "        if next_conflicts >= current_conflicts:\n",
        "            break\n",
        "\n",
        "        # Move to the better neighbor\n",
        "        current_state = next_state\n",
        "        current_conflicts = next_conflicts\n",
        "\n",
        "    return current_state, current_conflicts\n",
        "\n",
        "# Run Simple Hill Climbing for N-Queens\n",
        "n = 8  # Change N here for different sizes\n",
        "solution, conflicts = simple_hill_climbing(8)\n",
        "\n",
        "# Print results\n",
        "if conflicts == 0:\n",
        "    print(f\"Solution found for {n}-Queens problem:\")\n",
        "    print(solution)\n",
        "else:\n",
        "    print(f\"Could not find a solution. Stuck at state with {conflicts} conflicts:\")\n",
        "    print(solution)"
      ],
      "metadata": {
        "colab": {
          "base_uri": "https://localhost:8080/"
        },
        "id": "SmaM9QppU4Ps",
        "outputId": "0e7b39ef-ce09-4e96-bcc0-c3f8ffa12b07"
      },
      "execution_count": 1,
      "outputs": [
        {
          "output_type": "stream",
          "name": "stdout",
          "text": [
            "Solution found for 8-Queens problem:\n",
            "[3, 7, 0, 2, 5, 1, 6, 4]\n"
          ]
        }
      ]
    },
    {
      "cell_type": "markdown",
      "source": [
        "**GA**"
      ],
      "metadata": {
        "id": "M3y1zD5Av9_Q"
      }
    },
    {
      "cell_type": "code",
      "source": [
        "import random\n",
        "\n",
        "# Define the number of queens\n",
        "n = 8\n",
        "\n",
        "# Fitness function: counts non-attacking pairs of queens\n",
        "def calculate_fitness(individual):\n",
        "    non_attacking_pairs = 0\n",
        "    total_pairs = n * (n - 1) // 2  # Maximum possible non-attacking pairs\n",
        "\n",
        "    # Check for conflicts\n",
        "    for i in range(n):\n",
        "        for j in range(i + 1, n):\n",
        "            # No same column or diagonal conflict\n",
        "            if individual[i] != individual[j] and abs(individual[i] - individual[j]) != abs(i - j):\n",
        "                non_attacking_pairs += 1\n",
        "\n",
        "    # Fitness score is the ratio of non-attacking pairs\n",
        "    return non_attacking_pairs / total_pairs\n"
      ],
      "metadata": {
        "id": "G71ehwHWjow1"
      },
      "execution_count": 2,
      "outputs": []
    },
    {
      "cell_type": "code",
      "source": [
        "# Generate a random individual (chromosome) based on column positions\n",
        "def create_random_individual():\n",
        "    return random.sample(range(n), n)  # Ensure unique column positions\n",
        "\n",
        "# Create an initial population of random individuals\n",
        "population_size = 10\n",
        "population = [create_random_individual() for _ in range(population_size)]"
      ],
      "metadata": {
        "id": "pvAvhvbRv5aZ"
      },
      "execution_count": 3,
      "outputs": []
    },
    {
      "cell_type": "code",
      "source": [
        "# Evaluate fitness for each individual\n",
        "fitness_scores = [calculate_fitness(ind) for ind in population]\n",
        "print(\"Fitness Scores:\", fitness_scores)"
      ],
      "metadata": {
        "colab": {
          "base_uri": "https://localhost:8080/"
        },
        "id": "iVG9FZLDxraE",
        "outputId": "6ce230bb-e075-4072-ce12-00259f5d735d"
      },
      "execution_count": 4,
      "outputs": [
        {
          "output_type": "stream",
          "name": "stdout",
          "text": [
            "Fitness Scores: [0.8571428571428571, 0.7857142857142857, 0.8214285714285714, 0.9642857142857143, 0.7857142857142857, 0.75, 0.8571428571428571, 0.7857142857142857, 0.8928571428571429, 0.8214285714285714]\n"
          ]
        }
      ]
    },
    {
      "cell_type": "code",
      "source": [
        "# Select parents based on fitness\n",
        "def select_parents(population, fitness_scores):\n",
        "    sorted_population = [route for _, route in sorted(zip(fitness_scores, population), reverse=True)]\n",
        "    return sorted_population[:len(population) // 2]\n",
        "\n",
        "# Select parents\n",
        "parents = select_parents(population, fitness_scores)\n",
        "print(\"Selected Parents:\", parents)\n"
      ],
      "metadata": {
        "colab": {
          "base_uri": "https://localhost:8080/"
        },
        "id": "ZtBJu-lsxsZP",
        "outputId": "22631b5c-55d5-4ac6-fdf4-576a68534239"
      },
      "execution_count": 5,
      "outputs": [
        {
          "output_type": "stream",
          "name": "stdout",
          "text": [
            "Selected Parents: [[5, 0, 2, 4, 7, 1, 3, 6], [0, 4, 3, 7, 5, 2, 6, 1], [7, 5, 2, 4, 0, 3, 1, 6], [6, 0, 5, 3, 2, 7, 4, 1], [7, 3, 2, 5, 4, 1, 0, 6]]\n"
          ]
        }
      ]
    },
    {
      "cell_type": "code",
      "source": [
        "# Crossover function: single-point crossover with unique column positions\n",
        "def crossover(parent1, parent2):\n",
        "    point = random.randint(1, n - 2)  # Choose a crossover point\n",
        "    child = parent1[:point] + parent2[point:]\n",
        "\n",
        "    # Ensure unique column positions\n",
        "    missing = set(range(n)) - set(child)\n",
        "    duplicates = [col for col in child if child.count(col) > 1]\n",
        "    for i in range(len(child)):\n",
        "        if child.count(child[i]) > 1:\n",
        "            child[i] = missing.pop()\n",
        "    return child\n",
        "\n",
        "# Create new population using crossover\n",
        "new_population = []\n",
        "for _ in range(population_size):\n",
        "    parent1, parent2 = random.sample(parents, 2)\n",
        "    child = crossover(parent1, parent2)\n",
        "    new_population.append(child)\n",
        "print(\"New Population after Crossover:\", new_population)\n"
      ],
      "metadata": {
        "colab": {
          "base_uri": "https://localhost:8080/"
        },
        "id": "0f_vcBfR9AXy",
        "outputId": "06b7e353-750f-4cf8-e656-b52bddf501fe"
      },
      "execution_count": 6,
      "outputs": [
        {
          "output_type": "stream",
          "name": "stdout",
          "text": [
            "New Population after Crossover: [[5, 0, 6, 3, 2, 7, 4, 1], [6, 0, 5, 3, 2, 7, 4, 1], [0, 2, 3, 6, 5, 7, 4, 1], [7, 3, 2, 5, 4, 0, 1, 6], [0, 5, 3, 6, 2, 7, 4, 1], [0, 5, 6, 3, 2, 7, 4, 1], [4, 0, 5, 7, 2, 1, 3, 6], [7, 3, 2, 5, 4, 1, 0, 6], [7, 3, 0, 5, 4, 2, 6, 1], [7, 5, 2, 4, 3, 1, 0, 6]]\n"
          ]
        }
      ]
    },
    {
      "cell_type": "code",
      "source": [
        "# Mutation function: swap two column positions\n",
        "def mutate(individual):\n",
        "    idx1, idx2 = random.sample(range(n), 2)\n",
        "    individual[idx1], individual[idx2] = individual[idx2], individual[idx1]\n",
        "    return individual\n",
        "\n",
        "# Apply mutation with a probability of 0.1\n",
        "mutation_rate = 0.1\n",
        "for i in range(len(new_population)):\n",
        "    if random.random() < mutation_rate:\n",
        "        new_population[i] = mutate(new_population[i])\n",
        "print(\"Population after Mutation:\", new_population)\n"
      ],
      "metadata": {
        "colab": {
          "base_uri": "https://localhost:8080/"
        },
        "id": "B8Xym-Z29CN7",
        "outputId": "4032095f-3e80-4eac-b14b-171f9337123a"
      },
      "execution_count": 7,
      "outputs": [
        {
          "output_type": "stream",
          "name": "stdout",
          "text": [
            "Population after Mutation: [[5, 0, 6, 3, 2, 7, 4, 1], [6, 0, 5, 3, 2, 7, 4, 1], [0, 2, 3, 6, 5, 7, 1, 4], [7, 3, 2, 5, 4, 0, 1, 6], [0, 5, 3, 6, 2, 7, 4, 1], [0, 5, 6, 3, 2, 7, 4, 1], [4, 0, 5, 7, 2, 1, 3, 6], [7, 3, 2, 5, 4, 1, 0, 6], [0, 3, 7, 5, 4, 2, 6, 1], [7, 5, 2, 4, 3, 1, 0, 6]]\n"
          ]
        }
      ]
    },
    {
      "cell_type": "code",
      "source": [
        "# Genetic Algorithm main function\n",
        "def genetic_algorithm():\n",
        "    population = [create_random_individual() for _ in range(population_size)]\n",
        "    generation = 0\n",
        "    best_fitness = 0\n",
        "\n",
        "    while best_fitness < 1.0 and generation < 100:\n",
        "        fitness_scores = [calculate_fitness(ind) for ind in population]\n",
        "        best_fitness = max(fitness_scores)\n",
        "        print(f\"Generation {generation} Best Fitness: {best_fitness}\")\n",
        "\n",
        "        # Check for optimal solution\n",
        "        if best_fitness == 1.0:\n",
        "            break\n",
        "\n",
        "        # Selection\n",
        "        parents = select_parents(population, fitness_scores)\n",
        "\n",
        "        # Crossover\n",
        "        new_population = [crossover(random.choice(parents), random.choice(parents)) for _ in range(population_size)]\n",
        "\n",
        "        # Mutation\n",
        "        for i in range(len(new_population)):\n",
        "            if random.random() < mutation_rate:\n",
        "                new_population[i] = mutate(new_population[i])\n",
        "\n",
        "        population = new_population\n",
        "        generation += 1\n",
        "\n",
        "    # Return the best solution\n",
        "    best_individual = max(population, key=calculate_fitness)\n",
        "    return best_individual, calculate_fitness(best_individual)\n",
        "\n",
        "# Run the Genetic Algorithm\n",
        "solution, fitness = genetic_algorithm()\n",
        "print(\"Best Solution:\", solution)\n",
        "print(\"Best Fitness:\", fitness)\n"
      ],
      "metadata": {
        "colab": {
          "base_uri": "https://localhost:8080/"
        },
        "id": "0rN2Tecr9EHJ",
        "outputId": "8c727b6f-c6b9-472c-b872-92504dc3ae87"
      },
      "execution_count": 8,
      "outputs": [
        {
          "output_type": "stream",
          "name": "stdout",
          "text": [
            "Generation 0 Best Fitness: 0.9642857142857143\n",
            "Generation 1 Best Fitness: 0.9642857142857143\n",
            "Generation 2 Best Fitness: 0.9642857142857143\n",
            "Generation 3 Best Fitness: 0.9642857142857143\n",
            "Generation 4 Best Fitness: 0.9642857142857143\n",
            "Generation 5 Best Fitness: 0.9642857142857143\n",
            "Generation 6 Best Fitness: 0.9642857142857143\n",
            "Generation 7 Best Fitness: 0.9642857142857143\n",
            "Generation 8 Best Fitness: 0.9642857142857143\n",
            "Generation 9 Best Fitness: 0.9642857142857143\n",
            "Generation 10 Best Fitness: 0.9642857142857143\n",
            "Generation 11 Best Fitness: 0.9642857142857143\n",
            "Generation 12 Best Fitness: 0.9642857142857143\n",
            "Generation 13 Best Fitness: 0.9642857142857143\n",
            "Generation 14 Best Fitness: 0.9642857142857143\n",
            "Generation 15 Best Fitness: 0.9642857142857143\n",
            "Generation 16 Best Fitness: 0.9642857142857143\n",
            "Generation 17 Best Fitness: 0.9642857142857143\n",
            "Generation 18 Best Fitness: 0.9642857142857143\n",
            "Generation 19 Best Fitness: 0.9642857142857143\n",
            "Generation 20 Best Fitness: 0.9642857142857143\n",
            "Generation 21 Best Fitness: 0.9642857142857143\n",
            "Generation 22 Best Fitness: 0.9642857142857143\n",
            "Generation 23 Best Fitness: 0.9642857142857143\n",
            "Generation 24 Best Fitness: 0.9642857142857143\n",
            "Generation 25 Best Fitness: 0.9642857142857143\n",
            "Generation 26 Best Fitness: 0.9642857142857143\n",
            "Generation 27 Best Fitness: 0.9642857142857143\n",
            "Generation 28 Best Fitness: 0.9642857142857143\n",
            "Generation 29 Best Fitness: 0.9642857142857143\n",
            "Generation 30 Best Fitness: 0.9642857142857143\n",
            "Generation 31 Best Fitness: 0.9642857142857143\n",
            "Generation 32 Best Fitness: 0.9642857142857143\n",
            "Generation 33 Best Fitness: 0.9642857142857143\n",
            "Generation 34 Best Fitness: 0.9642857142857143\n",
            "Generation 35 Best Fitness: 0.9642857142857143\n",
            "Generation 36 Best Fitness: 0.9642857142857143\n",
            "Generation 37 Best Fitness: 0.9642857142857143\n",
            "Generation 38 Best Fitness: 0.9642857142857143\n",
            "Generation 39 Best Fitness: 0.9642857142857143\n",
            "Generation 40 Best Fitness: 0.9642857142857143\n",
            "Generation 41 Best Fitness: 0.9642857142857143\n",
            "Generation 42 Best Fitness: 0.9642857142857143\n",
            "Generation 43 Best Fitness: 0.9642857142857143\n",
            "Generation 44 Best Fitness: 0.9642857142857143\n",
            "Generation 45 Best Fitness: 0.9642857142857143\n",
            "Generation 46 Best Fitness: 0.9642857142857143\n",
            "Generation 47 Best Fitness: 0.9642857142857143\n",
            "Generation 48 Best Fitness: 0.9642857142857143\n",
            "Generation 49 Best Fitness: 0.9642857142857143\n",
            "Generation 50 Best Fitness: 0.9642857142857143\n",
            "Generation 51 Best Fitness: 0.9642857142857143\n",
            "Generation 52 Best Fitness: 0.9642857142857143\n",
            "Generation 53 Best Fitness: 0.9642857142857143\n",
            "Generation 54 Best Fitness: 0.9642857142857143\n",
            "Generation 55 Best Fitness: 0.9642857142857143\n",
            "Generation 56 Best Fitness: 0.9642857142857143\n",
            "Generation 57 Best Fitness: 0.9642857142857143\n",
            "Generation 58 Best Fitness: 0.9642857142857143\n",
            "Generation 59 Best Fitness: 0.9642857142857143\n",
            "Generation 60 Best Fitness: 0.9642857142857143\n",
            "Generation 61 Best Fitness: 0.9642857142857143\n",
            "Generation 62 Best Fitness: 0.9642857142857143\n",
            "Generation 63 Best Fitness: 0.9642857142857143\n",
            "Generation 64 Best Fitness: 0.9642857142857143\n",
            "Generation 65 Best Fitness: 0.9642857142857143\n",
            "Generation 66 Best Fitness: 0.9642857142857143\n",
            "Generation 67 Best Fitness: 0.9642857142857143\n",
            "Generation 68 Best Fitness: 0.9642857142857143\n",
            "Generation 69 Best Fitness: 0.9642857142857143\n",
            "Generation 70 Best Fitness: 0.9642857142857143\n",
            "Generation 71 Best Fitness: 0.9642857142857143\n",
            "Generation 72 Best Fitness: 0.9642857142857143\n",
            "Generation 73 Best Fitness: 0.9642857142857143\n",
            "Generation 74 Best Fitness: 0.9642857142857143\n",
            "Generation 75 Best Fitness: 0.9642857142857143\n",
            "Generation 76 Best Fitness: 0.9642857142857143\n",
            "Generation 77 Best Fitness: 0.9642857142857143\n",
            "Generation 78 Best Fitness: 0.9642857142857143\n",
            "Generation 79 Best Fitness: 0.9642857142857143\n",
            "Generation 80 Best Fitness: 0.9642857142857143\n",
            "Generation 81 Best Fitness: 0.9642857142857143\n",
            "Generation 82 Best Fitness: 0.9642857142857143\n",
            "Generation 83 Best Fitness: 0.9642857142857143\n",
            "Generation 84 Best Fitness: 0.9642857142857143\n",
            "Generation 85 Best Fitness: 0.9642857142857143\n",
            "Generation 86 Best Fitness: 0.9642857142857143\n",
            "Generation 87 Best Fitness: 0.9642857142857143\n",
            "Generation 88 Best Fitness: 0.9642857142857143\n",
            "Generation 89 Best Fitness: 0.9642857142857143\n",
            "Generation 90 Best Fitness: 0.9642857142857143\n",
            "Generation 91 Best Fitness: 0.9642857142857143\n",
            "Generation 92 Best Fitness: 0.9642857142857143\n",
            "Generation 93 Best Fitness: 0.9642857142857143\n",
            "Generation 94 Best Fitness: 0.9642857142857143\n",
            "Generation 95 Best Fitness: 0.9642857142857143\n",
            "Generation 96 Best Fitness: 0.9642857142857143\n",
            "Generation 97 Best Fitness: 0.9642857142857143\n",
            "Generation 98 Best Fitness: 0.9642857142857143\n",
            "Generation 99 Best Fitness: 0.9642857142857143\n",
            "Best Solution: [3, 6, 2, 5, 1, 4, 7, 0]\n",
            "Best Fitness: 0.9642857142857143\n"
          ]
        }
      ]
    },
    {
      "cell_type": "code",
      "source": [],
      "metadata": {
        "id": "f7u232q29G-3"
      },
      "execution_count": null,
      "outputs": []
    }
  ],
  "metadata": {
    "colab": {
      "provenance": []
    },
    "kernelspec": {
      "display_name": "Python 3",
      "name": "python3"
    },
    "language_info": {
      "name": "python"
    }
  },
  "nbformat": 4,
  "nbformat_minor": 0
}