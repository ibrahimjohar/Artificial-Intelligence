{
 "cells": [
  {
   "cell_type": "markdown",
   "metadata": {},
   "source": [
    "Name: Ibrahim Johar Farooqi"
   ]
  },
  {
   "cell_type": "markdown",
   "metadata": {},
   "source": [
    "ID: 23k-0074"
   ]
  },
  {
   "cell_type": "markdown",
   "metadata": {},
   "source": [
    "AI - Lab 5 Tasks"
   ]
  },
  {
   "cell_type": "markdown",
   "metadata": {},
   "source": [
    "Task 01"
   ]
  },
  {
   "cell_type": "code",
   "execution_count": 4,
   "metadata": {},
   "outputs": [
    {
     "name": "stdout",
     "output_type": "stream",
     "text": [
      "expanding: A, path: ['A'], cost: 0\n",
      "expanding: C, path: ['A', 'C'], cost: 1\n",
      "expanding: B, path: ['A', 'B'], cost: 3\n",
      "expanding: E, path: ['A', 'B', 'E'], cost: 5\n",
      "expanding: F, path: ['A', 'C', 'F'], cost: 6\n",
      "expanding: G, path: ['A', 'C', 'G'], cost: 7\n",
      "beam search result:\n",
      "\n",
      "path found: A -> C -> G  w/ total cost: 7\n"
     ]
    }
   ],
   "source": [
    "import heapq\n",
    "\n",
    "graph = {\n",
    "    'A': [('B', 3), ('C', 1)],\n",
    "    'B': [('D', 4), ('E', 2)],\n",
    "    'C': [('F', 5), ('G', 6)],\n",
    "    'D': [('G', 8)],  \n",
    "    'E': [('G', 7)],  \n",
    "    'F': [], 'G': []\n",
    "}\n",
    "\n",
    "def beam_search(start, goal, beam_width):\n",
    "    beam = [(0, [start])]\n",
    "    \n",
    "    while beam:\n",
    "        candidates = []\n",
    "        for cost, path in beam:\n",
    "            current_node = path[-1]\n",
    "            print(f\"expanding: {current_node}, path: {path}, cost: {cost}\")  \n",
    "            if current_node == goal:\n",
    "                return path, cost\n",
    "            \n",
    "            for neighbor, edge_cost in graph.get(current_node, []):\n",
    "                new_cost = cost + edge_cost\n",
    "                new_path = path + [neighbor]\n",
    "                candidates.append((new_cost, new_path))\n",
    "        \n",
    "        if not candidates:\n",
    "            break  #stop if no more paths to explore\n",
    "        \n",
    "        beam = heapq.nsmallest(max(beam_width, len(candidates)), candidates, key=lambda x: x[0])\n",
    "    \n",
    "    return None, float('inf')\n",
    "\n",
    "#running beam search\n",
    "start_node = 'A'\n",
    "goal_node = 'G'\n",
    "beam_width = 3  \n",
    "\n",
    "path, cost = beam_search(start=start_node, goal=goal_node, beam_width=beam_width)\n",
    "print(\"beam search result:\\n\")\n",
    "if path:\n",
    "    print(f\"path found: {' -> '.join(path)}  w/ total cost: {cost}\")\n",
    "else:\n",
    "    print(\"no path found.\")"
   ]
  },
  {
   "cell_type": "markdown",
   "metadata": {},
   "source": [
    "Task 02"
   ]
  },
  {
   "cell_type": "code",
   "execution_count": 5,
   "metadata": {},
   "outputs": [
    {
     "name": "stdout",
     "output_type": "stream",
     "text": [
      "hill climbing result:\n",
      "\n",
      "best route: [0, 1, 2, 3, 4]\n",
      "total distance: 15.67901859067678\n"
     ]
    }
   ],
   "source": [
    "import random\n",
    "\n",
    "def calculate_distance(route, locations):\n",
    "    return sum(distance(locations[route[i]], locations[route[i+1]]) for i in range(len(route) - 1))\n",
    "\n",
    "def distance(a, b):\n",
    "    return ((a[0] - b[0])**2 + (a[1] - b[1])**2) ** 0.5\n",
    "\n",
    "def get_neighbors(route):\n",
    "    neighbors = []\n",
    "    for i in range(len(route) - 1):\n",
    "        for j in range(i + 1, len(route)):\n",
    "            new_route = route[:]\n",
    "            new_route[i], new_route[j] = new_route[j], new_route[i]\n",
    "            neighbors.append(new_route)\n",
    "    return neighbors\n",
    "\n",
    "def hill_climbing_delivery(locations):\n",
    "    route = list(range(len(locations)))\n",
    "    random.shuffle(route)\n",
    "    best_distance = calculate_distance(route, locations)\n",
    "    \n",
    "    while True:\n",
    "        neighbors = get_neighbors(route)\n",
    "        next_route = min(neighbors, key=lambda r: calculate_distance(r, locations))\n",
    "        next_distance = calculate_distance(next_route, locations)\n",
    "        \n",
    "        if next_distance >= best_distance:\n",
    "            break\n",
    "        \n",
    "        route, best_distance = next_route, next_distance\n",
    "    \n",
    "    return route, best_distance\n",
    "\n",
    "#sample locations (x, y coordinates)\n",
    "locations = [(0,0), (2,3), (5,4), (7,2), (8,8)]\n",
    "\n",
    "best_route, best_distance = hill_climbing_delivery(locations)\n",
    "\n",
    "print(\"hill climbing result:\\n\")\n",
    "print(\"best route:\", best_route)\n",
    "print(\"total distance:\", best_distance)"
   ]
  },
  {
   "cell_type": "markdown",
   "metadata": {},
   "source": [
    "Task 03"
   ]
  },
  {
   "cell_type": "code",
   "execution_count": 6,
   "metadata": {},
   "outputs": [
    {
     "name": "stdout",
     "output_type": "stream",
     "text": [
      "genetic algorithm - result:\n",
      "\n",
      "best route: [1, 2, 3, 0]\n",
      "total cost: 22\n"
     ]
    }
   ],
   "source": [
    "import random\n",
    "\n",
    "def create_population(size, num_cities):\n",
    "    return [random.sample(range(num_cities), num_cities) for _ in range(size)]\n",
    "\n",
    "def evaluate_fitness(route, distances):\n",
    "    return sum(distances[route[i]][route[i+1]] for i in range(len(route) - 1)) + distances[route[-1]][route[0]]\n",
    "\n",
    "def select_parents(population, distances):\n",
    "    sorted_population = sorted(population, key=lambda r: evaluate_fitness(r, distances))\n",
    "    return sorted_population[:len(population)//2]\n",
    "\n",
    "def crossover(parent1, parent2):\n",
    "    point = len(parent1) // 2\n",
    "    child = parent1[:point] + [x for x in parent2 if x not in parent1[:point]]\n",
    "    return child\n",
    "\n",
    "def mutate(route):\n",
    "    i, j = random.sample(range(len(route)), 2)\n",
    "    route[i], route[j] = route[j], route[i]\n",
    "    return route\n",
    "\n",
    "def genetic_algorithm_tsp(distances, pop_size=10, generations=100):\n",
    "    num_cities = len(distances)\n",
    "    population = create_population(pop_size, num_cities)\n",
    "    \n",
    "    for _ in range(generations):\n",
    "        parents = select_parents(population, distances)\n",
    "        new_population = []\n",
    "        \n",
    "        while len(new_population) < pop_size:\n",
    "            parent1, parent2 = random.sample(parents, 2)\n",
    "            child = mutate(crossover(parent1, parent2))\n",
    "            new_population.append(child)\n",
    "        \n",
    "        population = new_population\n",
    "    \n",
    "    best_route = min(population, key=lambda r: evaluate_fitness(r, distances))\n",
    "    return best_route, evaluate_fitness(best_route, distances)\n",
    "\n",
    "\n",
    "distances = [\n",
    "    [0, 2, 9, 10],\n",
    "    [1, 0, 6, 4],\n",
    "    [15, 7, 0, 8],\n",
    "    [6, 3, 12, 0]\n",
    "]\n",
    "\n",
    "best_route, best_cost = genetic_algorithm_tsp(distances)\n",
    "\n",
    "print(\"genetic algorithm - result:\\n\")\n",
    "print(\"best route:\", best_route)\n",
    "print(\"total cost:\", best_cost)"
   ]
  }
 ],
 "metadata": {
  "kernelspec": {
   "display_name": "Python 3",
   "language": "python",
   "name": "python3"
  },
  "language_info": {
   "codemirror_mode": {
    "name": "ipython",
    "version": 3
   },
   "file_extension": ".py",
   "mimetype": "text/x-python",
   "name": "python",
   "nbconvert_exporter": "python",
   "pygments_lexer": "ipython3",
   "version": "3.11.9"
  }
 },
 "nbformat": 4,
 "nbformat_minor": 2
}
